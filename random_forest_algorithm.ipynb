{
 "cells": [
  {
   "metadata": {},
   "cell_type": "markdown",
   "source": [
    "# RANDOM FORESTS ALGORITHM\n",
    "#### MATH CONCEPTS FOR DEVELOPERS, FINAL PROJECT - SOFTUNI 2025"
   ],
   "id": "d8cec6253340139"
  },
  {
   "metadata": {},
   "cell_type": "markdown",
   "source": [
    "#### Random Forest Classifier Demonstration\n",
    "##### This notebook demonstrates how the Random Forest algorithm works on classification and regression problems using real datasets.\n"
   ],
   "id": "5cf5a2d4b7d4be9c"
  },
  {
   "metadata": {
    "ExecuteTime": {
     "end_time": "2025-05-27T12:14:59.630714Z",
     "start_time": "2025-05-27T12:14:59.628101Z"
    }
   },
   "cell_type": "code",
   "source": [
    "import numpy as np\n",
    "import pandas as pd\n",
    "import matplotlib.pyplot as plt\n",
    "import seaborn as sns\n",
    "\n",
    "from sklearn.ensemble import RandomForestClassifier, RandomForestRegressor # Classification and Regression\n",
    "from sklearn.model_selection import train_test_split # Split data into training and test data\n",
    "from sklearn.metrics import accuracy_score, classification_report, confusion_matrix, mean_squared_error # Model evaluation"
   ],
   "id": "70defdab282dceee",
   "outputs": [],
   "execution_count": 115
  },
  {
   "metadata": {
    "ExecuteTime": {
     "end_time": "2025-05-27T12:14:59.750410Z",
     "start_time": "2025-05-27T12:14:59.748599Z"
    }
   },
   "cell_type": "code",
   "source": [
    "# import kagglehub\n",
    "# \n",
    "# # Download latest version\n",
    "# path = kagglehub.dataset_download(\"uciml/breast-cancer-wisconsin-data\")\n",
    "# \n",
    "# print(\"Path to dataset files:\", path)\n",
    "\n",
    "#Here we download dataset"
   ],
   "id": "a27c1b62d304aeaa",
   "outputs": [],
   "execution_count": 116
  },
  {
   "metadata": {},
   "cell_type": "markdown",
   "source": "### Breast Cancer Wisconsin (Diagnostic) Data Set",
   "id": "3cd58d1250d00c96"
  },
  {
   "metadata": {
    "ExecuteTime": {
     "end_time": "2025-05-27T12:14:59.773332Z",
     "start_time": "2025-05-27T12:14:59.761437Z"
    }
   },
   "cell_type": "code",
   "source": [
    "data = pd.read_csv(\"data/data.csv\")\n",
    "data"
   ],
   "id": "2058c657b8242a70",
   "outputs": [
    {
     "data": {
      "text/plain": [
       "           id diagnosis  radius_mean  texture_mean  perimeter_mean  area_mean  \\\n",
       "0      842302         M        17.99         10.38          122.80     1001.0   \n",
       "1      842517         M        20.57         17.77          132.90     1326.0   \n",
       "2    84300903         M        19.69         21.25          130.00     1203.0   \n",
       "3    84348301         M        11.42         20.38           77.58      386.1   \n",
       "4    84358402         M        20.29         14.34          135.10     1297.0   \n",
       "..        ...       ...          ...           ...             ...        ...   \n",
       "564    926424         M        21.56         22.39          142.00     1479.0   \n",
       "565    926682         M        20.13         28.25          131.20     1261.0   \n",
       "566    926954         M        16.60         28.08          108.30      858.1   \n",
       "567    927241         M        20.60         29.33          140.10     1265.0   \n",
       "568     92751         B         7.76         24.54           47.92      181.0   \n",
       "\n",
       "     smoothness_mean  compactness_mean  concavity_mean  concave points_mean  \\\n",
       "0            0.11840           0.27760         0.30010              0.14710   \n",
       "1            0.08474           0.07864         0.08690              0.07017   \n",
       "2            0.10960           0.15990         0.19740              0.12790   \n",
       "3            0.14250           0.28390         0.24140              0.10520   \n",
       "4            0.10030           0.13280         0.19800              0.10430   \n",
       "..               ...               ...             ...                  ...   \n",
       "564          0.11100           0.11590         0.24390              0.13890   \n",
       "565          0.09780           0.10340         0.14400              0.09791   \n",
       "566          0.08455           0.10230         0.09251              0.05302   \n",
       "567          0.11780           0.27700         0.35140              0.15200   \n",
       "568          0.05263           0.04362         0.00000              0.00000   \n",
       "\n",
       "     ...  texture_worst  perimeter_worst  area_worst  smoothness_worst  \\\n",
       "0    ...          17.33           184.60      2019.0           0.16220   \n",
       "1    ...          23.41           158.80      1956.0           0.12380   \n",
       "2    ...          25.53           152.50      1709.0           0.14440   \n",
       "3    ...          26.50            98.87       567.7           0.20980   \n",
       "4    ...          16.67           152.20      1575.0           0.13740   \n",
       "..   ...            ...              ...         ...               ...   \n",
       "564  ...          26.40           166.10      2027.0           0.14100   \n",
       "565  ...          38.25           155.00      1731.0           0.11660   \n",
       "566  ...          34.12           126.70      1124.0           0.11390   \n",
       "567  ...          39.42           184.60      1821.0           0.16500   \n",
       "568  ...          30.37            59.16       268.6           0.08996   \n",
       "\n",
       "     compactness_worst  concavity_worst  concave points_worst  symmetry_worst  \\\n",
       "0              0.66560           0.7119                0.2654          0.4601   \n",
       "1              0.18660           0.2416                0.1860          0.2750   \n",
       "2              0.42450           0.4504                0.2430          0.3613   \n",
       "3              0.86630           0.6869                0.2575          0.6638   \n",
       "4              0.20500           0.4000                0.1625          0.2364   \n",
       "..                 ...              ...                   ...             ...   \n",
       "564            0.21130           0.4107                0.2216          0.2060   \n",
       "565            0.19220           0.3215                0.1628          0.2572   \n",
       "566            0.30940           0.3403                0.1418          0.2218   \n",
       "567            0.86810           0.9387                0.2650          0.4087   \n",
       "568            0.06444           0.0000                0.0000          0.2871   \n",
       "\n",
       "     fractal_dimension_worst  Unnamed: 32  \n",
       "0                    0.11890          NaN  \n",
       "1                    0.08902          NaN  \n",
       "2                    0.08758          NaN  \n",
       "3                    0.17300          NaN  \n",
       "4                    0.07678          NaN  \n",
       "..                       ...          ...  \n",
       "564                  0.07115          NaN  \n",
       "565                  0.06637          NaN  \n",
       "566                  0.07820          NaN  \n",
       "567                  0.12400          NaN  \n",
       "568                  0.07039          NaN  \n",
       "\n",
       "[569 rows x 33 columns]"
      ],
      "text/html": [
       "<div>\n",
       "<style scoped>\n",
       "    .dataframe tbody tr th:only-of-type {\n",
       "        vertical-align: middle;\n",
       "    }\n",
       "\n",
       "    .dataframe tbody tr th {\n",
       "        vertical-align: top;\n",
       "    }\n",
       "\n",
       "    .dataframe thead th {\n",
       "        text-align: right;\n",
       "    }\n",
       "</style>\n",
       "<table border=\"1\" class=\"dataframe\">\n",
       "  <thead>\n",
       "    <tr style=\"text-align: right;\">\n",
       "      <th></th>\n",
       "      <th>id</th>\n",
       "      <th>diagnosis</th>\n",
       "      <th>radius_mean</th>\n",
       "      <th>texture_mean</th>\n",
       "      <th>perimeter_mean</th>\n",
       "      <th>area_mean</th>\n",
       "      <th>smoothness_mean</th>\n",
       "      <th>compactness_mean</th>\n",
       "      <th>concavity_mean</th>\n",
       "      <th>concave points_mean</th>\n",
       "      <th>...</th>\n",
       "      <th>texture_worst</th>\n",
       "      <th>perimeter_worst</th>\n",
       "      <th>area_worst</th>\n",
       "      <th>smoothness_worst</th>\n",
       "      <th>compactness_worst</th>\n",
       "      <th>concavity_worst</th>\n",
       "      <th>concave points_worst</th>\n",
       "      <th>symmetry_worst</th>\n",
       "      <th>fractal_dimension_worst</th>\n",
       "      <th>Unnamed: 32</th>\n",
       "    </tr>\n",
       "  </thead>\n",
       "  <tbody>\n",
       "    <tr>\n",
       "      <th>0</th>\n",
       "      <td>842302</td>\n",
       "      <td>M</td>\n",
       "      <td>17.99</td>\n",
       "      <td>10.38</td>\n",
       "      <td>122.80</td>\n",
       "      <td>1001.0</td>\n",
       "      <td>0.11840</td>\n",
       "      <td>0.27760</td>\n",
       "      <td>0.30010</td>\n",
       "      <td>0.14710</td>\n",
       "      <td>...</td>\n",
       "      <td>17.33</td>\n",
       "      <td>184.60</td>\n",
       "      <td>2019.0</td>\n",
       "      <td>0.16220</td>\n",
       "      <td>0.66560</td>\n",
       "      <td>0.7119</td>\n",
       "      <td>0.2654</td>\n",
       "      <td>0.4601</td>\n",
       "      <td>0.11890</td>\n",
       "      <td>NaN</td>\n",
       "    </tr>\n",
       "    <tr>\n",
       "      <th>1</th>\n",
       "      <td>842517</td>\n",
       "      <td>M</td>\n",
       "      <td>20.57</td>\n",
       "      <td>17.77</td>\n",
       "      <td>132.90</td>\n",
       "      <td>1326.0</td>\n",
       "      <td>0.08474</td>\n",
       "      <td>0.07864</td>\n",
       "      <td>0.08690</td>\n",
       "      <td>0.07017</td>\n",
       "      <td>...</td>\n",
       "      <td>23.41</td>\n",
       "      <td>158.80</td>\n",
       "      <td>1956.0</td>\n",
       "      <td>0.12380</td>\n",
       "      <td>0.18660</td>\n",
       "      <td>0.2416</td>\n",
       "      <td>0.1860</td>\n",
       "      <td>0.2750</td>\n",
       "      <td>0.08902</td>\n",
       "      <td>NaN</td>\n",
       "    </tr>\n",
       "    <tr>\n",
       "      <th>2</th>\n",
       "      <td>84300903</td>\n",
       "      <td>M</td>\n",
       "      <td>19.69</td>\n",
       "      <td>21.25</td>\n",
       "      <td>130.00</td>\n",
       "      <td>1203.0</td>\n",
       "      <td>0.10960</td>\n",
       "      <td>0.15990</td>\n",
       "      <td>0.19740</td>\n",
       "      <td>0.12790</td>\n",
       "      <td>...</td>\n",
       "      <td>25.53</td>\n",
       "      <td>152.50</td>\n",
       "      <td>1709.0</td>\n",
       "      <td>0.14440</td>\n",
       "      <td>0.42450</td>\n",
       "      <td>0.4504</td>\n",
       "      <td>0.2430</td>\n",
       "      <td>0.3613</td>\n",
       "      <td>0.08758</td>\n",
       "      <td>NaN</td>\n",
       "    </tr>\n",
       "    <tr>\n",
       "      <th>3</th>\n",
       "      <td>84348301</td>\n",
       "      <td>M</td>\n",
       "      <td>11.42</td>\n",
       "      <td>20.38</td>\n",
       "      <td>77.58</td>\n",
       "      <td>386.1</td>\n",
       "      <td>0.14250</td>\n",
       "      <td>0.28390</td>\n",
       "      <td>0.24140</td>\n",
       "      <td>0.10520</td>\n",
       "      <td>...</td>\n",
       "      <td>26.50</td>\n",
       "      <td>98.87</td>\n",
       "      <td>567.7</td>\n",
       "      <td>0.20980</td>\n",
       "      <td>0.86630</td>\n",
       "      <td>0.6869</td>\n",
       "      <td>0.2575</td>\n",
       "      <td>0.6638</td>\n",
       "      <td>0.17300</td>\n",
       "      <td>NaN</td>\n",
       "    </tr>\n",
       "    <tr>\n",
       "      <th>4</th>\n",
       "      <td>84358402</td>\n",
       "      <td>M</td>\n",
       "      <td>20.29</td>\n",
       "      <td>14.34</td>\n",
       "      <td>135.10</td>\n",
       "      <td>1297.0</td>\n",
       "      <td>0.10030</td>\n",
       "      <td>0.13280</td>\n",
       "      <td>0.19800</td>\n",
       "      <td>0.10430</td>\n",
       "      <td>...</td>\n",
       "      <td>16.67</td>\n",
       "      <td>152.20</td>\n",
       "      <td>1575.0</td>\n",
       "      <td>0.13740</td>\n",
       "      <td>0.20500</td>\n",
       "      <td>0.4000</td>\n",
       "      <td>0.1625</td>\n",
       "      <td>0.2364</td>\n",
       "      <td>0.07678</td>\n",
       "      <td>NaN</td>\n",
       "    </tr>\n",
       "    <tr>\n",
       "      <th>...</th>\n",
       "      <td>...</td>\n",
       "      <td>...</td>\n",
       "      <td>...</td>\n",
       "      <td>...</td>\n",
       "      <td>...</td>\n",
       "      <td>...</td>\n",
       "      <td>...</td>\n",
       "      <td>...</td>\n",
       "      <td>...</td>\n",
       "      <td>...</td>\n",
       "      <td>...</td>\n",
       "      <td>...</td>\n",
       "      <td>...</td>\n",
       "      <td>...</td>\n",
       "      <td>...</td>\n",
       "      <td>...</td>\n",
       "      <td>...</td>\n",
       "      <td>...</td>\n",
       "      <td>...</td>\n",
       "      <td>...</td>\n",
       "      <td>...</td>\n",
       "    </tr>\n",
       "    <tr>\n",
       "      <th>564</th>\n",
       "      <td>926424</td>\n",
       "      <td>M</td>\n",
       "      <td>21.56</td>\n",
       "      <td>22.39</td>\n",
       "      <td>142.00</td>\n",
       "      <td>1479.0</td>\n",
       "      <td>0.11100</td>\n",
       "      <td>0.11590</td>\n",
       "      <td>0.24390</td>\n",
       "      <td>0.13890</td>\n",
       "      <td>...</td>\n",
       "      <td>26.40</td>\n",
       "      <td>166.10</td>\n",
       "      <td>2027.0</td>\n",
       "      <td>0.14100</td>\n",
       "      <td>0.21130</td>\n",
       "      <td>0.4107</td>\n",
       "      <td>0.2216</td>\n",
       "      <td>0.2060</td>\n",
       "      <td>0.07115</td>\n",
       "      <td>NaN</td>\n",
       "    </tr>\n",
       "    <tr>\n",
       "      <th>565</th>\n",
       "      <td>926682</td>\n",
       "      <td>M</td>\n",
       "      <td>20.13</td>\n",
       "      <td>28.25</td>\n",
       "      <td>131.20</td>\n",
       "      <td>1261.0</td>\n",
       "      <td>0.09780</td>\n",
       "      <td>0.10340</td>\n",
       "      <td>0.14400</td>\n",
       "      <td>0.09791</td>\n",
       "      <td>...</td>\n",
       "      <td>38.25</td>\n",
       "      <td>155.00</td>\n",
       "      <td>1731.0</td>\n",
       "      <td>0.11660</td>\n",
       "      <td>0.19220</td>\n",
       "      <td>0.3215</td>\n",
       "      <td>0.1628</td>\n",
       "      <td>0.2572</td>\n",
       "      <td>0.06637</td>\n",
       "      <td>NaN</td>\n",
       "    </tr>\n",
       "    <tr>\n",
       "      <th>566</th>\n",
       "      <td>926954</td>\n",
       "      <td>M</td>\n",
       "      <td>16.60</td>\n",
       "      <td>28.08</td>\n",
       "      <td>108.30</td>\n",
       "      <td>858.1</td>\n",
       "      <td>0.08455</td>\n",
       "      <td>0.10230</td>\n",
       "      <td>0.09251</td>\n",
       "      <td>0.05302</td>\n",
       "      <td>...</td>\n",
       "      <td>34.12</td>\n",
       "      <td>126.70</td>\n",
       "      <td>1124.0</td>\n",
       "      <td>0.11390</td>\n",
       "      <td>0.30940</td>\n",
       "      <td>0.3403</td>\n",
       "      <td>0.1418</td>\n",
       "      <td>0.2218</td>\n",
       "      <td>0.07820</td>\n",
       "      <td>NaN</td>\n",
       "    </tr>\n",
       "    <tr>\n",
       "      <th>567</th>\n",
       "      <td>927241</td>\n",
       "      <td>M</td>\n",
       "      <td>20.60</td>\n",
       "      <td>29.33</td>\n",
       "      <td>140.10</td>\n",
       "      <td>1265.0</td>\n",
       "      <td>0.11780</td>\n",
       "      <td>0.27700</td>\n",
       "      <td>0.35140</td>\n",
       "      <td>0.15200</td>\n",
       "      <td>...</td>\n",
       "      <td>39.42</td>\n",
       "      <td>184.60</td>\n",
       "      <td>1821.0</td>\n",
       "      <td>0.16500</td>\n",
       "      <td>0.86810</td>\n",
       "      <td>0.9387</td>\n",
       "      <td>0.2650</td>\n",
       "      <td>0.4087</td>\n",
       "      <td>0.12400</td>\n",
       "      <td>NaN</td>\n",
       "    </tr>\n",
       "    <tr>\n",
       "      <th>568</th>\n",
       "      <td>92751</td>\n",
       "      <td>B</td>\n",
       "      <td>7.76</td>\n",
       "      <td>24.54</td>\n",
       "      <td>47.92</td>\n",
       "      <td>181.0</td>\n",
       "      <td>0.05263</td>\n",
       "      <td>0.04362</td>\n",
       "      <td>0.00000</td>\n",
       "      <td>0.00000</td>\n",
       "      <td>...</td>\n",
       "      <td>30.37</td>\n",
       "      <td>59.16</td>\n",
       "      <td>268.6</td>\n",
       "      <td>0.08996</td>\n",
       "      <td>0.06444</td>\n",
       "      <td>0.0000</td>\n",
       "      <td>0.0000</td>\n",
       "      <td>0.2871</td>\n",
       "      <td>0.07039</td>\n",
       "      <td>NaN</td>\n",
       "    </tr>\n",
       "  </tbody>\n",
       "</table>\n",
       "<p>569 rows × 33 columns</p>\n",
       "</div>"
      ]
     },
     "execution_count": 117,
     "metadata": {},
     "output_type": "execute_result"
    }
   ],
   "execution_count": 117
  },
  {
   "metadata": {},
   "cell_type": "markdown",
   "source": [
    "#### Main Features and Their Meanings\n",
    "\n",
    "Each sample in the dataset represents measurements of a breast cell nucleus extracted from a digital image taken during a fine needle aspiration (FNA). The dataset includes 30 features derived from 10 main physical characteristics, each calculated using three statistical methods: mean (average), standard error (SE), and worst (maximum value). These measurements help determine whether a tumor is benign or malignant.\n",
    "\n",
    "1. **Radius** – The mean distance from the center of the nucleus to the cell perimeter.  \n",
    "   This value reflects the overall size of the cell. Larger radius values are often associated with malignant tumors.\n",
    "\n",
    "2. **Texture** – The standard deviation of gray-scale values in the cell image.  \n",
    "   It reflects the variation in pixel intensity across the cell surface.  \n",
    "   - Low texture → smooth and uniform cells (likely benign)  \n",
    "   - High texture → irregular and rough cells (likely malignant)\n",
    "\n",
    "3. **Perimeter** – The total length of the cell boundary.  \n",
    "   It is directly related to radius and gives an estimate of how large and complex the shape of the cell is.\n",
    "\n",
    "4. **Area** – The area enclosed by the cell boundary.  \n",
    "   A larger area typically indicates a larger cell size, which can be a sign of abnormal or malignant cells.\n",
    "\n",
    "5. **Smoothness** – Measures local variation in the cell boundary.  \n",
    "   Lower values mean the edges of the cell are smooth and regular. Higher values suggest jagged or irregular edges, which are common in malignant cells.\n",
    "\n",
    "6. **Compactness** – Calculated as (perimeter² / area) - 1.0.  \n",
    "   This measures how closely packed the cell contents are. Higher values indicate more irregular or extended cell shapes.\n",
    "\n",
    "7. **Concavity** – Describes the extent of concave (inward-curved) sections of the cell boundary.  \n",
    "   Deep concavities are typically seen in irregular, potentially malignant cell shapes.\n",
    "\n",
    "8. **Concave Points** – The number of distinct concave portions along the cell boundary.  \n",
    "   A higher number indicates more indentations or notches, often found in abnormal cells.\n",
    "\n",
    "9. **Symmetry** – Measures how symmetrical the cell is in shape.  \n",
    "   Healthy (benign) cells tend to be more symmetrical, while malignant ones often display asymmetry.\n",
    "\n",
    "10. **Fractal Dimension** – Describes the complexity of the cell boundary.  \n",
    "    Higher fractal dimension means the border is more irregular and complex, which may be a characteristic of malignancy.\n",
    "\n",
    "Each of the above features is measured in three different ways:\n",
    "\n",
    "- `mean`: The average value of the feature across multiple measurements in a single image.\n",
    "- `se` (standard error): The estimated variation or uncertainty in that measurement.\n",
    "- `worst`: The maximum value observed for the feature (e.g., largest radius or most irregular texture).\n",
    "\n",
    "Тhese 30 numerical features form the input variables used by machine learning models to predict the tumor class (benign or malignant).\n",
    "\n"
   ],
   "id": "5ad77ee561eb35a2"
  },
  {
   "metadata": {},
   "cell_type": "markdown",
   "source": [
    "### Diagnosis\n",
    "##### M - Malignant, indicating a cancerous (dangerous) tumor.\n",
    "##### B - Benign, indicating a non-cancerous (harmless) tumor."
   ],
   "id": "8c21696415df12b8"
  },
  {
   "metadata": {
    "ExecuteTime": {
     "end_time": "2025-05-27T12:14:59.781003Z",
     "start_time": "2025-05-27T12:14:59.777897Z"
    }
   },
   "cell_type": "code",
   "source": [
    "counts_m = data['diagnosis'].value_counts()\n",
    "counts_m"
   ],
   "id": "16ac930ad8b20ed2",
   "outputs": [
    {
     "data": {
      "text/plain": [
       "diagnosis\n",
       "B    357\n",
       "M    212\n",
       "Name: count, dtype: int64"
      ]
     },
     "execution_count": 118,
     "metadata": {},
     "output_type": "execute_result"
    }
   ],
   "execution_count": 118
  },
  {
   "metadata": {
    "ExecuteTime": {
     "end_time": "2025-05-27T12:14:59.846814Z",
     "start_time": "2025-05-27T12:14:59.842184Z"
    }
   },
   "cell_type": "code",
   "source": [
    "data = pd.read_csv('data/data.csv')\n",
    "print(data.columns)"
   ],
   "id": "b8d86bb754ec09d0",
   "outputs": [
    {
     "name": "stdout",
     "output_type": "stream",
     "text": [
      "Index(['id', 'diagnosis', 'radius_mean', 'texture_mean', 'perimeter_mean',\n",
      "       'area_mean', 'smoothness_mean', 'compactness_mean', 'concavity_mean',\n",
      "       'concave points_mean', 'symmetry_mean', 'fractal_dimension_mean',\n",
      "       'radius_se', 'texture_se', 'perimeter_se', 'area_se', 'smoothness_se',\n",
      "       'compactness_se', 'concavity_se', 'concave points_se', 'symmetry_se',\n",
      "       'fractal_dimension_se', 'radius_worst', 'texture_worst',\n",
      "       'perimeter_worst', 'area_worst', 'smoothness_worst',\n",
      "       'compactness_worst', 'concavity_worst', 'concave points_worst',\n",
      "       'symmetry_worst', 'fractal_dimension_worst', 'Unnamed: 32'],\n",
      "      dtype='object')\n"
     ]
    }
   ],
   "execution_count": 119
  },
  {
   "metadata": {},
   "cell_type": "markdown",
   "source": "### Smoothness Mean",
   "id": "bc587972d17bc2db"
  },
  {
   "metadata": {},
   "cell_type": "markdown",
   "source": "**Smoothness Mean** measures the regularity of the cell nucleus boundary by quantifying local variations in radius lengths. Lower values indicate smoother, more regular shapes; higher values suggest irregularity, often linked to malignancy.\n",
   "id": "641c236a81ed048f"
  },
  {
   "metadata": {
    "ExecuteTime": {
     "end_time": "2025-05-27T12:14:59.877678Z",
     "start_time": "2025-05-27T12:14:59.873106Z"
    }
   },
   "cell_type": "code",
   "source": [
    "df = data[['diagnosis', 'smoothness_mean']]\n",
    "df"
   ],
   "id": "ff0e56eca069fdb5",
   "outputs": [
    {
     "data": {
      "text/plain": [
       "    diagnosis  smoothness_mean\n",
       "0           M          0.11840\n",
       "1           M          0.08474\n",
       "2           M          0.10960\n",
       "3           M          0.14250\n",
       "4           M          0.10030\n",
       "..        ...              ...\n",
       "564         M          0.11100\n",
       "565         M          0.09780\n",
       "566         M          0.08455\n",
       "567         M          0.11780\n",
       "568         B          0.05263\n",
       "\n",
       "[569 rows x 2 columns]"
      ],
      "text/html": [
       "<div>\n",
       "<style scoped>\n",
       "    .dataframe tbody tr th:only-of-type {\n",
       "        vertical-align: middle;\n",
       "    }\n",
       "\n",
       "    .dataframe tbody tr th {\n",
       "        vertical-align: top;\n",
       "    }\n",
       "\n",
       "    .dataframe thead th {\n",
       "        text-align: right;\n",
       "    }\n",
       "</style>\n",
       "<table border=\"1\" class=\"dataframe\">\n",
       "  <thead>\n",
       "    <tr style=\"text-align: right;\">\n",
       "      <th></th>\n",
       "      <th>diagnosis</th>\n",
       "      <th>smoothness_mean</th>\n",
       "    </tr>\n",
       "  </thead>\n",
       "  <tbody>\n",
       "    <tr>\n",
       "      <th>0</th>\n",
       "      <td>M</td>\n",
       "      <td>0.11840</td>\n",
       "    </tr>\n",
       "    <tr>\n",
       "      <th>1</th>\n",
       "      <td>M</td>\n",
       "      <td>0.08474</td>\n",
       "    </tr>\n",
       "    <tr>\n",
       "      <th>2</th>\n",
       "      <td>M</td>\n",
       "      <td>0.10960</td>\n",
       "    </tr>\n",
       "    <tr>\n",
       "      <th>3</th>\n",
       "      <td>M</td>\n",
       "      <td>0.14250</td>\n",
       "    </tr>\n",
       "    <tr>\n",
       "      <th>4</th>\n",
       "      <td>M</td>\n",
       "      <td>0.10030</td>\n",
       "    </tr>\n",
       "    <tr>\n",
       "      <th>...</th>\n",
       "      <td>...</td>\n",
       "      <td>...</td>\n",
       "    </tr>\n",
       "    <tr>\n",
       "      <th>564</th>\n",
       "      <td>M</td>\n",
       "      <td>0.11100</td>\n",
       "    </tr>\n",
       "    <tr>\n",
       "      <th>565</th>\n",
       "      <td>M</td>\n",
       "      <td>0.09780</td>\n",
       "    </tr>\n",
       "    <tr>\n",
       "      <th>566</th>\n",
       "      <td>M</td>\n",
       "      <td>0.08455</td>\n",
       "    </tr>\n",
       "    <tr>\n",
       "      <th>567</th>\n",
       "      <td>M</td>\n",
       "      <td>0.11780</td>\n",
       "    </tr>\n",
       "    <tr>\n",
       "      <th>568</th>\n",
       "      <td>B</td>\n",
       "      <td>0.05263</td>\n",
       "    </tr>\n",
       "  </tbody>\n",
       "</table>\n",
       "<p>569 rows × 2 columns</p>\n",
       "</div>"
      ]
     },
     "execution_count": 120,
     "metadata": {},
     "output_type": "execute_result"
    }
   ],
   "execution_count": 120
  },
  {
   "metadata": {
    "ExecuteTime": {
     "end_time": "2025-05-27T12:15:00.073254Z",
     "start_time": "2025-05-27T12:14:59.951518Z"
    }
   },
   "cell_type": "code",
   "source": [
    "benign = df[df['diagnosis'] == 'B']['smoothness_mean']\n",
    "malignant = df[df['diagnosis'] == 'M']['smoothness_mean']\n",
    "\n",
    "min_malignant = malignant.min() - 0.0045\n",
    "max_malignant = malignant.max() - 0.0015\n",
    "min_benign = benign.min() - 0.002\n",
    "max_benign = benign.max() - 0.0275\n",
    "\n",
    "plt.figure(figsize=(10, 6))\n",
    "\n",
    "counts_benign, bins = np.histogram(benign, bins=30)\n",
    "counts_malignant, _ = np.histogram(malignant, bins=bins)\n",
    "\n",
    "counts_benign_percent = counts_benign / counts_benign.sum() * 100\n",
    "counts_malignant_percent = counts_malignant / counts_malignant.sum() * 100\n",
    "\n",
    "bin_width = bins[1] - bins[0]\n",
    "\n",
    "plt.bar(bins[:-1], counts_benign_percent, width=bin_width, alpha=0.5, label='Benign')\n",
    "plt.bar(bins[:-1], counts_malignant_percent, width=bin_width, alpha=0.5, label='Malignant')\n",
    "\n",
    "plt.title('Distribution of Smoothness Mean by Diagnosis')\n",
    "plt.xlabel('Smoothness Mean')\n",
    "plt.ylabel('Percentage of people (%)')\n",
    "\n",
    "plt.axvline(min_malignant, color='red', linestyle='--', label=f'Min Malignant: {min_malignant:.3f}')\n",
    "plt.axvline(max_malignant, color='red', linestyle='--', label=f'Max Malignant: {max_malignant:.3f}')\n",
    "plt.axvline(min_benign, color='green', linestyle='-', label=f'Min Benign: {min_benign:.3f}')\n",
    "plt.axvline(max_benign, color='green', linestyle='-', label=f'Max Benign: {max_benign:.3f}')\n",
    "\n",
    "plt.xticks(np.arange(0.03, 0.17, 0.01))\n",
    "\n",
    "plt.legend()\n",
    "plt.show()\n",
    "\n"
   ],
   "id": "cbd4e6b00296a80d",
   "outputs": [
    {
     "data": {
      "text/plain": [
       "<Figure size 1000x600 with 1 Axes>"
      ],
      "image/png": "[encoded data removed]"
     },
     "metadata": {},
     "output_type": "display_data"
    }
   ],
   "execution_count": 121
  },
  {
   "metadata": {
    "ExecuteTime": {
     "end_time": "2025-05-27T12:15:00.077456Z",
     "start_time": "2025-05-27T12:15:00.074297Z"
    }
   },
   "cell_type": "code",
   "source": [
    "percent_of_benign_under = ((df.smoothness_mean < 0.069).sum() / len(df)) * 100\n",
    "percent_of_benign_under\n",
    "# Under 0.069 smoothness mean are diagnosis with B (benign tumor). This case are 1.23 % of people."
   ],
   "id": "68fa297d5ebbc62e",
   "outputs": [
    {
     "data": {
      "text/plain": [
       "np.float64(1.2302284710017575)"
      ]
     },
     "execution_count": 122,
     "metadata": {},
     "output_type": "execute_result"
    }
   ],
   "execution_count": 122
  },
  {
   "metadata": {
    "ExecuteTime": {
     "end_time": "2025-05-27T12:15:00.081437Z",
     "start_time": "2025-05-27T12:15:00.078268Z"
    }
   },
   "cell_type": "code",
   "source": [
    "percent_of_benign_above = ((df.smoothness_mean > 0.143).sum() / len(df)) * 100\n",
    "percent_of_benign_above\n",
    "# Smoothness mean 0.143 is the last for M diagnosis. Next case is with more than 0.16 smoothness mean with diagnosis B. This extreme case does not describe a specific group of people, but only individual cases that cannot give us a good overall picture and information."
   ],
   "id": "5d00f01932546b7c",
   "outputs": [
    {
     "data": {
      "text/plain": [
       "np.float64(0.35149384885764495)"
      ]
     },
     "execution_count": 123,
     "metadata": {},
     "output_type": "execute_result"
    }
   ],
   "execution_count": 123
  },
  {
   "metadata": {
    "ExecuteTime": {
     "end_time": "2025-05-27T12:15:00.085525Z",
     "start_time": "2025-05-27T12:15:00.082441Z"
    }
   },
   "cell_type": "code",
   "source": [
    "percent_of_benign_above_1 = ((df['smoothness_mean'] < 0.1) & (df['smoothness_mean'] > 0.069) & (df['diagnosis'] == 'B')).sum() / len(df) * 100\n",
    "percent_of_benign_above_1\n",
    "\n",
    "# 42.17% with smoothness mean between 0.069 and 0.1 have diagnosis B (Benign tumor)"
   ],
   "id": "7e3de6bc325af935",
   "outputs": [
    {
     "data": {
      "text/plain": [
       "np.float64(44.63971880492091)"
      ]
     },
     "execution_count": 124,
     "metadata": {},
     "output_type": "execute_result"
    }
   ],
   "execution_count": 124
  },
  {
   "metadata": {},
   "cell_type": "markdown",
   "source": "### Radius mean",
   "id": "f419cf6679a23e42"
  },
  {
   "metadata": {},
   "cell_type": "markdown",
   "source": "**Radius Mean** represents the average distance from the center of the cell nucleus to its boundary. It is a key indicator of cell size, with larger values often associated with malignant tumors.\n",
   "id": "df55c5a4c80e22fa"
  },
  {
   "metadata": {
    "ExecuteTime": {
     "end_time": "2025-05-27T12:15:00.090717Z",
     "start_time": "2025-05-27T12:15:00.086147Z"
    }
   },
   "cell_type": "code",
   "source": [
    "df = data[['diagnosis', 'radius_mean']]\n",
    "df"
   ],
   "id": "33af98822155bc5c",
   "outputs": [
    {
     "data": {
      "text/plain": [
       "    diagnosis  radius_mean\n",
       "0           M        17.99\n",
       "1           M        20.57\n",
       "2           M        19.69\n",
       "3           M        11.42\n",
       "4           M        20.29\n",
       "..        ...          ...\n",
       "564         M        21.56\n",
       "565         M        20.13\n",
       "566         M        16.60\n",
       "567         M        20.60\n",
       "568         B         7.76\n",
       "\n",
       "[569 rows x 2 columns]"
      ],
      "text/html": [
       "<div>\n",
       "<style scoped>\n",
       "    .dataframe tbody tr th:only-of-type {\n",
       "        vertical-align: middle;\n",
       "    }\n",
       "\n",
       "    .dataframe tbody tr th {\n",
       "        vertical-align: top;\n",
       "    }\n",
       "\n",
       "    .dataframe thead th {\n",
       "        text-align: right;\n",
       "    }\n",
       "</style>\n",
       "<table border=\"1\" class=\"dataframe\">\n",
       "  <thead>\n",
       "    <tr style=\"text-align: right;\">\n",
       "      <th></th>\n",
       "      <th>diagnosis</th>\n",
       "      <th>radius_mean</th>\n",
       "    </tr>\n",
       "  </thead>\n",
       "  <tbody>\n",
       "    <tr>\n",
       "      <th>0</th>\n",
       "      <td>M</td>\n",
       "      <td>17.99</td>\n",
       "    </tr>\n",
       "    <tr>\n",
       "      <th>1</th>\n",
       "      <td>M</td>\n",
       "      <td>20.57</td>\n",
       "    </tr>\n",
       "    <tr>\n",
       "      <th>2</th>\n",
       "      <td>M</td>\n",
       "      <td>19.69</td>\n",
       "    </tr>\n",
       "    <tr>\n",
       "      <th>3</th>\n",
       "      <td>M</td>\n",
       "      <td>11.42</td>\n",
       "    </tr>\n",
       "    <tr>\n",
       "      <th>4</th>\n",
       "      <td>M</td>\n",
       "      <td>20.29</td>\n",
       "    </tr>\n",
       "    <tr>\n",
       "      <th>...</th>\n",
       "      <td>...</td>\n",
       "      <td>...</td>\n",
       "    </tr>\n",
       "    <tr>\n",
       "      <th>564</th>\n",
       "      <td>M</td>\n",
       "      <td>21.56</td>\n",
       "    </tr>\n",
       "    <tr>\n",
       "      <th>565</th>\n",
       "      <td>M</td>\n",
       "      <td>20.13</td>\n",
       "    </tr>\n",
       "    <tr>\n",
       "      <th>566</th>\n",
       "      <td>M</td>\n",
       "      <td>16.60</td>\n",
       "    </tr>\n",
       "    <tr>\n",
       "      <th>567</th>\n",
       "      <td>M</td>\n",
       "      <td>20.60</td>\n",
       "    </tr>\n",
       "    <tr>\n",
       "      <th>568</th>\n",
       "      <td>B</td>\n",
       "      <td>7.76</td>\n",
       "    </tr>\n",
       "  </tbody>\n",
       "</table>\n",
       "<p>569 rows × 2 columns</p>\n",
       "</div>"
      ]
     },
     "execution_count": 125,
     "metadata": {},
     "output_type": "execute_result"
    }
   ],
   "execution_count": 125
  },
  {
   "metadata": {
    "ExecuteTime": {
     "end_time": "2025-05-27T12:15:00.180808Z",
     "start_time": "2025-05-27T12:15:00.091850Z"
    }
   },
   "cell_type": "code",
   "source": [
    "benign = df[df['diagnosis'] == 'B']['radius_mean']\n",
    "malignant = df[df['diagnosis'] == 'M']['radius_mean']\n",
    "\n",
    "plt.figure(figsize=(10, 6))\n",
    "\n",
    "counts_benign, bins = np.histogram(benign, bins=30)\n",
    "counts_malignant, _ = np.histogram(malignant, bins=bins)\n",
    "\n",
    "counts_benign_percent = counts_benign / counts_benign.sum() * 100\n",
    "counts_malignant_percent = counts_malignant / counts_malignant.sum() * 100\n",
    "\n",
    "bin_width = bins[1] - bins[0]\n",
    "\n",
    "plt.bar(bins[:-1], counts_benign_percent, width=bin_width, alpha=0.5, label='Benign')\n",
    "plt.bar(bins[:-1], counts_malignant_percent, width=bin_width, alpha=0.5, label='Malignant')\n",
    "\n",
    "plt.title('Distribution of Radius Mean by Diagnosis')\n",
    "plt.xlabel('Radius Mean')\n",
    "plt.ylabel('Percentage of people (%)')\n",
    "\n",
    "plt.legend()\n",
    "plt.show()\n"
   ],
   "id": "44800b2088d9cc73",
   "outputs": [
    {
     "data": {
      "text/plain": [
       "<Figure size 1000x600 with 1 Axes>"
      ],
      "image/png": "[encoded data removed]"
     },
     "metadata": {},
     "output_type": "display_data"
    }
   ],
   "execution_count": 126
  },
  {
   "metadata": {},
   "cell_type": "markdown",
   "source": "### Texture mean",
   "id": "38645fde1b3b4bb6"
  },
  {
   "metadata": {},
   "cell_type": "markdown",
   "source": "**Texture Mean** measures the average variation in gray-level values (pixel intensity) within the cell nucleus, reflecting its surface roughness. Higher values may indicate irregular structure, often seen in malignant cells.\n",
   "id": "e9fc3a8ef446edff"
  },
  {
   "metadata": {
    "ExecuteTime": {
     "end_time": "2025-05-27T12:15:00.186556Z",
     "start_time": "2025-05-27T12:15:00.181682Z"
    }
   },
   "cell_type": "code",
   "source": [
    "df = data[['diagnosis', 'texture_mean']]\n",
    "df"
   ],
   "id": "a433351273ffa092",
   "outputs": [
    {
     "data": {
      "text/plain": [
       "    diagnosis  texture_mean\n",
       "0           M         10.38\n",
       "1           M         17.77\n",
       "2           M         21.25\n",
       "3           M         20.38\n",
       "4           M         14.34\n",
       "..        ...           ...\n",
       "564         M         22.39\n",
       "565         M         28.25\n",
       "566         M         28.08\n",
       "567         M         29.33\n",
       "568         B         24.54\n",
       "\n",
       "[569 rows x 2 columns]"
      ],
      "text/html": [
       "<div>\n",
       "<style scoped>\n",
       "    .dataframe tbody tr th:only-of-type {\n",
       "        vertical-align: middle;\n",
       "    }\n",
       "\n",
       "    .dataframe tbody tr th {\n",
       "        vertical-align: top;\n",
       "    }\n",
       "\n",
       "    .dataframe thead th {\n",
       "        text-align: right;\n",
       "    }\n",
       "</style>\n",
       "<table border=\"1\" class=\"dataframe\">\n",
       "  <thead>\n",
       "    <tr style=\"text-align: right;\">\n",
       "      <th></th>\n",
       "      <th>diagnosis</th>\n",
       "      <th>texture_mean</th>\n",
       "    </tr>\n",
       "  </thead>\n",
       "  <tbody>\n",
       "    <tr>\n",
       "      <th>0</th>\n",
       "      <td>M</td>\n",
       "      <td>10.38</td>\n",
       "    </tr>\n",
       "    <tr>\n",
       "      <th>1</th>\n",
       "      <td>M</td>\n",
       "      <td>17.77</td>\n",
       "    </tr>\n",
       "    <tr>\n",
       "      <th>2</th>\n",
       "      <td>M</td>\n",
       "      <td>21.25</td>\n",
       "    </tr>\n",
       "    <tr>\n",
       "      <th>3</th>\n",
       "      <td>M</td>\n",
       "      <td>20.38</td>\n",
       "    </tr>\n",
       "    <tr>\n",
       "      <th>4</th>\n",
       "      <td>M</td>\n",
       "      <td>14.34</td>\n",
       "    </tr>\n",
       "    <tr>\n",
       "      <th>...</th>\n",
       "      <td>...</td>\n",
       "      <td>...</td>\n",
       "    </tr>\n",
       "    <tr>\n",
       "      <th>564</th>\n",
       "      <td>M</td>\n",
       "      <td>22.39</td>\n",
       "    </tr>\n",
       "    <tr>\n",
       "      <th>565</th>\n",
       "      <td>M</td>\n",
       "      <td>28.25</td>\n",
       "    </tr>\n",
       "    <tr>\n",
       "      <th>566</th>\n",
       "      <td>M</td>\n",
       "      <td>28.08</td>\n",
       "    </tr>\n",
       "    <tr>\n",
       "      <th>567</th>\n",
       "      <td>M</td>\n",
       "      <td>29.33</td>\n",
       "    </tr>\n",
       "    <tr>\n",
       "      <th>568</th>\n",
       "      <td>B</td>\n",
       "      <td>24.54</td>\n",
       "    </tr>\n",
       "  </tbody>\n",
       "</table>\n",
       "<p>569 rows × 2 columns</p>\n",
       "</div>"
      ]
     },
     "execution_count": 127,
     "metadata": {},
     "output_type": "execute_result"
    }
   ],
   "execution_count": 127
  },
  {
   "metadata": {
    "ExecuteTime": {
     "end_time": "2025-05-27T12:15:00.283452Z",
     "start_time": "2025-05-27T12:15:00.187418Z"
    }
   },
   "cell_type": "code",
   "source": [
    "benign = df[df['diagnosis'] == 'B']['texture_mean']\n",
    "malignant = df[df['diagnosis'] == 'M']['texture_mean']\n",
    "\n",
    "plt.figure(figsize=(10, 6))\n",
    "\n",
    "counts_benign, bins = np.histogram(benign, bins=30)\n",
    "counts_malignant, _ = np.histogram(malignant, bins=bins)\n",
    "\n",
    "counts_benign_percent = counts_benign / counts_benign.sum() * 100\n",
    "counts_malignant_percent = counts_malignant / counts_malignant.sum() * 100\n",
    "\n",
    "bin_width = bins[1] - bins[0]\n",
    "\n",
    "plt.bar(bins[:-1], counts_benign_percent, width=bin_width, alpha=0.5, label='Benign')\n",
    "plt.bar(bins[:-1], counts_malignant_percent, width=bin_width, alpha=0.5, label='Malignant')\n",
    "\n",
    "plt.title('Distribution of Texture Mean by Diagnosis')\n",
    "plt.xlabel('Texture Mean')\n",
    "plt.ylabel('Percentage of people (%)')\n",
    "\n",
    "plt.legend()\n",
    "plt.show()"
   ],
   "id": "39934d46ba8d4a55",
   "outputs": [
    {
     "data": {
      "text/plain": [
       "<Figure size 1000x600 with 1 Axes>"
      ],
      "image/png": "[encoded data removed]"
     },
     "metadata": {},
     "output_type": "display_data"
    }
   ],
   "execution_count": 128
  },
  {
   "metadata": {},
   "cell_type": "markdown",
   "source": [
    "##### Smoothness is related to the shape and contour.\n",
    "##### Texture is related to the internal texture and visual appearance of the cell."
   ],
   "id": "8c90be959ca62d18"
  },
  {
   "metadata": {},
   "cell_type": "markdown",
   "source": "### Perimeter mean",
   "id": "3b779fce1b9a08d6"
  },
  {
   "metadata": {},
   "cell_type": "markdown",
   "source": "**Perimeter Mean** measures the average length of the boundary of the cell nuclei. Irregular or larger perimeters are often linked to malignant tumors.\n",
   "id": "105eec7688e79bcb"
  },
  {
   "metadata": {
    "ExecuteTime": {
     "end_time": "2025-05-27T12:15:00.289297Z",
     "start_time": "2025-05-27T12:15:00.284459Z"
    }
   },
   "cell_type": "code",
   "source": [
    "df = data[['diagnosis', 'perimeter_mean']]\n",
    "df"
   ],
   "id": "a566349ffb58745c",
   "outputs": [
    {
     "data": {
      "text/plain": [
       "    diagnosis  perimeter_mean\n",
       "0           M          122.80\n",
       "1           M          132.90\n",
       "2           M          130.00\n",
       "3           M           77.58\n",
       "4           M          135.10\n",
       "..        ...             ...\n",
       "564         M          142.00\n",
       "565         M          131.20\n",
       "566         M          108.30\n",
       "567         M          140.10\n",
       "568         B           47.92\n",
       "\n",
       "[569 rows x 2 columns]"
      ],
      "text/html": [
       "<div>\n",
       "<style scoped>\n",
       "    .dataframe tbody tr th:only-of-type {\n",
       "        vertical-align: middle;\n",
       "    }\n",
       "\n",
       "    .dataframe tbody tr th {\n",
       "        vertical-align: top;\n",
       "    }\n",
       "\n",
       "    .dataframe thead th {\n",
       "        text-align: right;\n",
       "    }\n",
       "</style>\n",
       "<table border=\"1\" class=\"dataframe\">\n",
       "  <thead>\n",
       "    <tr style=\"text-align: right;\">\n",
       "      <th></th>\n",
       "      <th>diagnosis</th>\n",
       "      <th>perimeter_mean</th>\n",
       "    </tr>\n",
       "  </thead>\n",
       "  <tbody>\n",
       "    <tr>\n",
       "      <th>0</th>\n",
       "      <td>M</td>\n",
       "      <td>122.80</td>\n",
       "    </tr>\n",
       "    <tr>\n",
       "      <th>1</th>\n",
       "      <td>M</td>\n",
       "      <td>132.90</td>\n",
       "    </tr>\n",
       "    <tr>\n",
       "      <th>2</th>\n",
       "      <td>M</td>\n",
       "      <td>130.00</td>\n",
       "    </tr>\n",
       "    <tr>\n",
       "      <th>3</th>\n",
       "      <td>M</td>\n",
       "      <td>77.58</td>\n",
       "    </tr>\n",
       "    <tr>\n",
       "      <th>4</th>\n",
       "      <td>M</td>\n",
       "      <td>135.10</td>\n",
       "    </tr>\n",
       "    <tr>\n",
       "      <th>...</th>\n",
       "      <td>...</td>\n",
       "      <td>...</td>\n",
       "    </tr>\n",
       "    <tr>\n",
       "      <th>564</th>\n",
       "      <td>M</td>\n",
       "      <td>142.00</td>\n",
       "    </tr>\n",
       "    <tr>\n",
       "      <th>565</th>\n",
       "      <td>M</td>\n",
       "      <td>131.20</td>\n",
       "    </tr>\n",
       "    <tr>\n",
       "      <th>566</th>\n",
       "      <td>M</td>\n",
       "      <td>108.30</td>\n",
       "    </tr>\n",
       "    <tr>\n",
       "      <th>567</th>\n",
       "      <td>M</td>\n",
       "      <td>140.10</td>\n",
       "    </tr>\n",
       "    <tr>\n",
       "      <th>568</th>\n",
       "      <td>B</td>\n",
       "      <td>47.92</td>\n",
       "    </tr>\n",
       "  </tbody>\n",
       "</table>\n",
       "<p>569 rows × 2 columns</p>\n",
       "</div>"
      ]
     },
     "execution_count": 129,
     "metadata": {},
     "output_type": "execute_result"
    }
   ],
   "execution_count": 129
  },
  {
   "metadata": {
    "ExecuteTime": {
     "end_time": "2025-05-27T12:15:00.382322Z",
     "start_time": "2025-05-27T12:15:00.290104Z"
    }
   },
   "cell_type": "code",
   "source": [
    "benign = df[df['diagnosis'] == 'B']['perimeter_mean']\n",
    "malignant = df[df['diagnosis'] == 'M']['perimeter_mean']\n",
    "\n",
    "plt.figure(figsize=(10, 6))\n",
    "\n",
    "counts_benign, bins = np.histogram(benign, bins=30)\n",
    "counts_malignant, _ = np.histogram(malignant, bins=bins)\n",
    "\n",
    "counts_benign_percent = counts_benign / counts_benign.sum() * 100\n",
    "counts_malignant_percent = counts_malignant / counts_malignant.sum() * 100\n",
    "\n",
    "bin_width = bins[1] - bins[0]\n",
    "\n",
    "plt.bar(bins[:-1], counts_benign_percent, width=bin_width, alpha=0.5, label='Benign')\n",
    "plt.bar(bins[:-1], counts_malignant_percent, width=bin_width, alpha=0.5, label='Malignant')\n",
    "\n",
    "plt.title('Distribution of Perimeter Mean by Diagnosis')\n",
    "plt.xlabel('Perimeter Mean')\n",
    "plt.ylabel('Percentage of people (%)')\n",
    "\n",
    "plt.legend()\n",
    "plt.show()"
   ],
   "id": "2886b39e782d5ba7",
   "outputs": [
    {
     "data": {
      "text/plain": [
       "<Figure size 1000x600 with 1 Axes>"
      ],
      "image/png": "[encoded data removed]"
     },
     "metadata": {},
     "output_type": "display_data"
    }
   ],
   "execution_count": 130
  },
  {
   "metadata": {},
   "cell_type": "markdown",
   "source": "### Area mean",
   "id": "9667aa6f7407d42a"
  },
  {
   "metadata": {},
   "cell_type": "markdown",
   "source": "**Area Mean** represents the average size (in pixels) of the cell nuclei. Larger areas can indicate abnormal growth and are often associated with malignant tumors.\n",
   "id": "a7409c31a8be1e3b"
  },
  {
   "metadata": {
    "ExecuteTime": {
     "end_time": "2025-05-27T12:15:00.388205Z",
     "start_time": "2025-05-27T12:15:00.383487Z"
    }
   },
   "cell_type": "code",
   "source": [
    "df = data[['diagnosis', 'area_mean']]\n",
    "df"
   ],
   "id": "692f6aeead7aaf7a",
   "outputs": [
    {
     "data": {
      "text/plain": [
       "    diagnosis  area_mean\n",
       "0           M     1001.0\n",
       "1           M     1326.0\n",
       "2           M     1203.0\n",
       "3           M      386.1\n",
       "4           M     1297.0\n",
       "..        ...        ...\n",
       "564         M     1479.0\n",
       "565         M     1261.0\n",
       "566         M      858.1\n",
       "567         M     1265.0\n",
       "568         B      181.0\n",
       "\n",
       "[569 rows x 2 columns]"
      ],
      "text/html": [
       "<div>\n",
       "<style scoped>\n",
       "    .dataframe tbody tr th:only-of-type {\n",
       "        vertical-align: middle;\n",
       "    }\n",
       "\n",
       "    .dataframe tbody tr th {\n",
       "        vertical-align: top;\n",
       "    }\n",
       "\n",
       "    .dataframe thead th {\n",
       "        text-align: right;\n",
       "    }\n",
       "</style>\n",
       "<table border=\"1\" class=\"dataframe\">\n",
       "  <thead>\n",
       "    <tr style=\"text-align: right;\">\n",
       "      <th></th>\n",
       "      <th>diagnosis</th>\n",
       "      <th>area_mean</th>\n",
       "    </tr>\n",
       "  </thead>\n",
       "  <tbody>\n",
       "    <tr>\n",
       "      <th>0</th>\n",
       "      <td>M</td>\n",
       "      <td>1001.0</td>\n",
       "    </tr>\n",
       "    <tr>\n",
       "      <th>1</th>\n",
       "      <td>M</td>\n",
       "      <td>1326.0</td>\n",
       "    </tr>\n",
       "    <tr>\n",
       "      <th>2</th>\n",
       "      <td>M</td>\n",
       "      <td>1203.0</td>\n",
       "    </tr>\n",
       "    <tr>\n",
       "      <th>3</th>\n",
       "      <td>M</td>\n",
       "      <td>386.1</td>\n",
       "    </tr>\n",
       "    <tr>\n",
       "      <th>4</th>\n",
       "      <td>M</td>\n",
       "      <td>1297.0</td>\n",
       "    </tr>\n",
       "    <tr>\n",
       "      <th>...</th>\n",
       "      <td>...</td>\n",
       "      <td>...</td>\n",
       "    </tr>\n",
       "    <tr>\n",
       "      <th>564</th>\n",
       "      <td>M</td>\n",
       "      <td>1479.0</td>\n",
       "    </tr>\n",
       "    <tr>\n",
       "      <th>565</th>\n",
       "      <td>M</td>\n",
       "      <td>1261.0</td>\n",
       "    </tr>\n",
       "    <tr>\n",
       "      <th>566</th>\n",
       "      <td>M</td>\n",
       "      <td>858.1</td>\n",
       "    </tr>\n",
       "    <tr>\n",
       "      <th>567</th>\n",
       "      <td>M</td>\n",
       "      <td>1265.0</td>\n",
       "    </tr>\n",
       "    <tr>\n",
       "      <th>568</th>\n",
       "      <td>B</td>\n",
       "      <td>181.0</td>\n",
       "    </tr>\n",
       "  </tbody>\n",
       "</table>\n",
       "<p>569 rows × 2 columns</p>\n",
       "</div>"
      ]
     },
     "execution_count": 131,
     "metadata": {},
     "output_type": "execute_result"
    }
   ],
   "execution_count": 131
  },
  {
   "metadata": {
    "ExecuteTime": {
     "end_time": "2025-05-27T12:15:00.475571Z",
     "start_time": "2025-05-27T12:15:00.388970Z"
    }
   },
   "cell_type": "code",
   "source": [
    "benign = df[df['diagnosis'] == 'B']['area_mean']\n",
    "malignant = df[df['diagnosis'] == 'M']['area_mean']\n",
    "\n",
    "plt.figure(figsize=(10, 6))\n",
    "\n",
    "counts_benign, bins = np.histogram(benign, bins=30)\n",
    "counts_malignant, _ = np.histogram(malignant, bins=bins)\n",
    "\n",
    "counts_benign_percent = counts_benign / counts_benign.sum() * 100\n",
    "counts_malignant_percent = counts_malignant / counts_malignant.sum() * 100\n",
    "\n",
    "bin_width = bins[1] - bins[0]\n",
    "\n",
    "plt.bar(bins[:-1], counts_benign_percent, width=bin_width, alpha=0.5, label='Benign')\n",
    "plt.bar(bins[:-1], counts_malignant_percent, width=bin_width, alpha=0.5, label='Malignant')\n",
    "\n",
    "plt.title('Distribution of Area Mean by Diagnosis')\n",
    "plt.xlabel('Area Mean')\n",
    "plt.ylabel('Percentage of people (%)')\n",
    "\n",
    "plt.legend()\n",
    "plt.show()"
   ],
   "id": "6a77d4e12fba09ae",
   "outputs": [
    {
     "data": {
      "text/plain": [
       "<Figure size 1000x600 with 1 Axes>"
      ],
      "image/png": "[encoded data removed]"
     },
     "metadata": {},
     "output_type": "display_data"
    }
   ],
   "execution_count": 132
  },
  {
   "metadata": {},
   "cell_type": "markdown",
   "source": "### Compactness mean",
   "id": "630b2d3bbb2849d6"
  },
  {
   "metadata": {},
   "cell_type": "markdown",
   "source": "$$\\text{Compactness} = \\frac{(\\text{Perimeter})^2}{\\text{Area}} - 1$$",
   "id": "a517c3e4b0a0dab2"
  },
  {
   "metadata": {},
   "cell_type": "markdown",
   "source": "Lower values indicate a rounder, more regular shape (often benign), while higher values suggest an irregular, distorted shape (often malignant).",
   "id": "ce5987080fe5e29c"
  },
  {
   "metadata": {
    "ExecuteTime": {
     "end_time": "2025-05-27T12:15:00.480912Z",
     "start_time": "2025-05-27T12:15:00.476454Z"
    }
   },
   "cell_type": "code",
   "source": [
    "df = data[['diagnosis', 'compactness_mean']]\n",
    "df"
   ],
   "id": "320c68f63ad1a2e4",
   "outputs": [
    {
     "data": {
      "text/plain": [
       "    diagnosis  compactness_mean\n",
       "0           M           0.27760\n",
       "1           M           0.07864\n",
       "2           M           0.15990\n",
       "3           M           0.28390\n",
       "4           M           0.13280\n",
       "..        ...               ...\n",
       "564         M           0.11590\n",
       "565         M           0.10340\n",
       "566         M           0.10230\n",
       "567         M           0.27700\n",
       "568         B           0.04362\n",
       "\n",
       "[569 rows x 2 columns]"
      ],
      "text/html": [
       "<div>\n",
       "<style scoped>\n",
       "    .dataframe tbody tr th:only-of-type {\n",
       "        vertical-align: middle;\n",
       "    }\n",
       "\n",
       "    .dataframe tbody tr th {\n",
       "        vertical-align: top;\n",
       "    }\n",
       "\n",
       "    .dataframe thead th {\n",
       "        text-align: right;\n",
       "    }\n",
       "</style>\n",
       "<table border=\"1\" class=\"dataframe\">\n",
       "  <thead>\n",
       "    <tr style=\"text-align: right;\">\n",
       "      <th></th>\n",
       "      <th>diagnosis</th>\n",
       "      <th>compactness_mean</th>\n",
       "    </tr>\n",
       "  </thead>\n",
       "  <tbody>\n",
       "    <tr>\n",
       "      <th>0</th>\n",
       "      <td>M</td>\n",
       "      <td>0.27760</td>\n",
       "    </tr>\n",
       "    <tr>\n",
       "      <th>1</th>\n",
       "      <td>M</td>\n",
       "      <td>0.07864</td>\n",
       "    </tr>\n",
       "    <tr>\n",
       "      <th>2</th>\n",
       "      <td>M</td>\n",
       "      <td>0.15990</td>\n",
       "    </tr>\n",
       "    <tr>\n",
       "      <th>3</th>\n",
       "      <td>M</td>\n",
       "      <td>0.28390</td>\n",
       "    </tr>\n",
       "    <tr>\n",
       "      <th>4</th>\n",
       "      <td>M</td>\n",
       "      <td>0.13280</td>\n",
       "    </tr>\n",
       "    <tr>\n",
       "      <th>...</th>\n",
       "      <td>...</td>\n",
       "      <td>...</td>\n",
       "    </tr>\n",
       "    <tr>\n",
       "      <th>564</th>\n",
       "      <td>M</td>\n",
       "      <td>0.11590</td>\n",
       "    </tr>\n",
       "    <tr>\n",
       "      <th>565</th>\n",
       "      <td>M</td>\n",
       "      <td>0.10340</td>\n",
       "    </tr>\n",
       "    <tr>\n",
       "      <th>566</th>\n",
       "      <td>M</td>\n",
       "      <td>0.10230</td>\n",
       "    </tr>\n",
       "    <tr>\n",
       "      <th>567</th>\n",
       "      <td>M</td>\n",
       "      <td>0.27700</td>\n",
       "    </tr>\n",
       "    <tr>\n",
       "      <th>568</th>\n",
       "      <td>B</td>\n",
       "      <td>0.04362</td>\n",
       "    </tr>\n",
       "  </tbody>\n",
       "</table>\n",
       "<p>569 rows × 2 columns</p>\n",
       "</div>"
      ]
     },
     "execution_count": 133,
     "metadata": {},
     "output_type": "execute_result"
    }
   ],
   "execution_count": 133
  },
  {
   "metadata": {
    "ExecuteTime": {
     "end_time": "2025-05-27T12:15:00.576713Z",
     "start_time": "2025-05-27T12:15:00.481970Z"
    }
   },
   "cell_type": "code",
   "source": [
    "benign = df[df['diagnosis'] == 'B']['compactness_mean']\n",
    "malignant = df[df['diagnosis'] == 'M']['compactness_mean']\n",
    "\n",
    "plt.figure(figsize=(10, 6))\n",
    "\n",
    "counts_benign, bins = np.histogram(benign, bins=30)\n",
    "counts_malignant, _ = np.histogram(malignant, bins=bins)\n",
    "\n",
    "counts_benign_percent = counts_benign / counts_benign.sum() * 100\n",
    "counts_malignant_percent = counts_malignant / counts_malignant.sum() * 100\n",
    "\n",
    "bin_width = bins[1] - bins[0]\n",
    "\n",
    "plt.bar(bins[:-1], counts_benign_percent, width=bin_width, alpha=0.5, label='Benign')\n",
    "plt.bar(bins[:-1], counts_malignant_percent, width=bin_width, alpha=0.5, label='Malignant')\n",
    "\n",
    "plt.title('Distribution of Compactness Mean by Diagnosis')\n",
    "plt.xlabel('Compactness Mean')\n",
    "plt.ylabel('Percentage of people (%)')\n",
    "\n",
    "plt.legend()\n",
    "plt.show()"
   ],
   "id": "ad15c41e85b031f2",
   "outputs": [
    {
     "data": {
      "text/plain": [
       "<Figure size 1000x600 with 1 Axes>"
      ],
      "image/png": "[encoded data removed]"
     },
     "metadata": {},
     "output_type": "display_data"
    }
   ],
   "execution_count": 134
  },
  {
   "metadata": {},
   "cell_type": "markdown",
   "source": "### Concavity mean",
   "id": "73d7630a4c2d6f7a"
  },
  {
   "metadata": {},
   "cell_type": "markdown",
   "source": "**Concavity** measures the extent of inward curves (indentations) along the cell's contour. It is calculated algorithmically by analyzing the differences between the cell's actual shape and its convex hull. Higher concavity indicates more irregular and distorted cell boundaries, often associated with malignant tumors.\n",
   "id": "e9c96c1477d99a0d"
  },
  {
   "metadata": {
    "ExecuteTime": {
     "end_time": "2025-05-27T12:15:00.581732Z",
     "start_time": "2025-05-27T12:15:00.577531Z"
    }
   },
   "cell_type": "code",
   "source": [
    "df = data[['diagnosis', 'concavity_mean']]\n",
    "df"
   ],
   "id": "8cd815e49b6e22d6",
   "outputs": [
    {
     "data": {
      "text/plain": [
       "    diagnosis  concavity_mean\n",
       "0           M         0.30010\n",
       "1           M         0.08690\n",
       "2           M         0.19740\n",
       "3           M         0.24140\n",
       "4           M         0.19800\n",
       "..        ...             ...\n",
       "564         M         0.24390\n",
       "565         M         0.14400\n",
       "566         M         0.09251\n",
       "567         M         0.35140\n",
       "568         B         0.00000\n",
       "\n",
       "[569 rows x 2 columns]"
      ],
      "text/html": [
       "<div>\n",
       "<style scoped>\n",
       "    .dataframe tbody tr th:only-of-type {\n",
       "        vertical-align: middle;\n",
       "    }\n",
       "\n",
       "    .dataframe tbody tr th {\n",
       "        vertical-align: top;\n",
       "    }\n",
       "\n",
       "    .dataframe thead th {\n",
       "        text-align: right;\n",
       "    }\n",
       "</style>\n",
       "<table border=\"1\" class=\"dataframe\">\n",
       "  <thead>\n",
       "    <tr style=\"text-align: right;\">\n",
       "      <th></th>\n",
       "      <th>diagnosis</th>\n",
       "      <th>concavity_mean</th>\n",
       "    </tr>\n",
       "  </thead>\n",
       "  <tbody>\n",
       "    <tr>\n",
       "      <th>0</th>\n",
       "      <td>M</td>\n",
       "      <td>0.30010</td>\n",
       "    </tr>\n",
       "    <tr>\n",
       "      <th>1</th>\n",
       "      <td>M</td>\n",
       "      <td>0.08690</td>\n",
       "    </tr>\n",
       "    <tr>\n",
       "      <th>2</th>\n",
       "      <td>M</td>\n",
       "      <td>0.19740</td>\n",
       "    </tr>\n",
       "    <tr>\n",
       "      <th>3</th>\n",
       "      <td>M</td>\n",
       "      <td>0.24140</td>\n",
       "    </tr>\n",
       "    <tr>\n",
       "      <th>4</th>\n",
       "      <td>M</td>\n",
       "      <td>0.19800</td>\n",
       "    </tr>\n",
       "    <tr>\n",
       "      <th>...</th>\n",
       "      <td>...</td>\n",
       "      <td>...</td>\n",
       "    </tr>\n",
       "    <tr>\n",
       "      <th>564</th>\n",
       "      <td>M</td>\n",
       "      <td>0.24390</td>\n",
       "    </tr>\n",
       "    <tr>\n",
       "      <th>565</th>\n",
       "      <td>M</td>\n",
       "      <td>0.14400</td>\n",
       "    </tr>\n",
       "    <tr>\n",
       "      <th>566</th>\n",
       "      <td>M</td>\n",
       "      <td>0.09251</td>\n",
       "    </tr>\n",
       "    <tr>\n",
       "      <th>567</th>\n",
       "      <td>M</td>\n",
       "      <td>0.35140</td>\n",
       "    </tr>\n",
       "    <tr>\n",
       "      <th>568</th>\n",
       "      <td>B</td>\n",
       "      <td>0.00000</td>\n",
       "    </tr>\n",
       "  </tbody>\n",
       "</table>\n",
       "<p>569 rows × 2 columns</p>\n",
       "</div>"
      ]
     },
     "execution_count": 135,
     "metadata": {},
     "output_type": "execute_result"
    }
   ],
   "execution_count": 135
  },
  {
   "metadata": {
    "ExecuteTime": {
     "end_time": "2025-05-27T12:15:00.744843Z",
     "start_time": "2025-05-27T12:15:00.655146Z"
    }
   },
   "cell_type": "code",
   "source": [
    "benign = df[df['diagnosis'] == 'B']['concavity_mean']\n",
    "malignant = df[df['diagnosis'] == 'M']['concavity_mean']\n",
    "\n",
    "plt.figure(figsize=(10, 6))\n",
    "\n",
    "counts_benign, bins = np.histogram(benign, bins=30)\n",
    "counts_malignant, _ = np.histogram(malignant, bins=bins)\n",
    "\n",
    "counts_benign_percent = counts_benign / counts_benign.sum() * 100\n",
    "counts_malignant_percent = counts_malignant / counts_malignant.sum() * 100\n",
    "\n",
    "bin_width = bins[1] - bins[0]\n",
    "\n",
    "plt.bar(bins[:-1], counts_benign_percent, width=bin_width, alpha=0.5, label='Benign')\n",
    "plt.bar(bins[:-1], counts_malignant_percent, width=bin_width, alpha=0.5, label='Malignant')\n",
    "\n",
    "plt.title('Distribution of Compactness Mean by Diagnosis')\n",
    "plt.xlabel('Concavity Mean')\n",
    "plt.ylabel('Percentage of people (%)')\n",
    "\n",
    "plt.legend()\n",
    "plt.show()"
   ],
   "id": "814427e3e0de3dd4",
   "outputs": [
    {
     "data": {
      "text/plain": [
       "<Figure size 1000x600 with 1 Axes>"
      ],
      "image/png": "[encoded data removed]"
     },
     "metadata": {},
     "output_type": "display_data"
    }
   ],
   "execution_count": 136
  },
  {
   "metadata": {},
   "cell_type": "markdown",
   "source": "### Concave points mean",
   "id": "7ce6a3bce6f0a84d"
  },
  {
   "metadata": {},
   "cell_type": "markdown",
   "source": "**Concave Points Mean** measures the average number of distinct inward indentations (concave regions) along the cell nucleus boundary. Higher values indicate more irregular shapes, which are often associated with malignant tumors.\n",
   "id": "abdc237269b48a60"
  },
  {
   "metadata": {
    "ExecuteTime": {
     "end_time": "2025-05-27T12:15:00.750192Z",
     "start_time": "2025-05-27T12:15:00.745632Z"
    }
   },
   "cell_type": "code",
   "source": [
    "df = data[['diagnosis', 'concave points_mean']]\n",
    "df"
   ],
   "id": "179b3b8e0075489e",
   "outputs": [
    {
     "data": {
      "text/plain": [
       "    diagnosis  concave points_mean\n",
       "0           M              0.14710\n",
       "1           M              0.07017\n",
       "2           M              0.12790\n",
       "3           M              0.10520\n",
       "4           M              0.10430\n",
       "..        ...                  ...\n",
       "564         M              0.13890\n",
       "565         M              0.09791\n",
       "566         M              0.05302\n",
       "567         M              0.15200\n",
       "568         B              0.00000\n",
       "\n",
       "[569 rows x 2 columns]"
      ],
      "text/html": [
       "<div>\n",
       "<style scoped>\n",
       "    .dataframe tbody tr th:only-of-type {\n",
       "        vertical-align: middle;\n",
       "    }\n",
       "\n",
       "    .dataframe tbody tr th {\n",
       "        vertical-align: top;\n",
       "    }\n",
       "\n",
       "    .dataframe thead th {\n",
       "        text-align: right;\n",
       "    }\n",
       "</style>\n",
       "<table border=\"1\" class=\"dataframe\">\n",
       "  <thead>\n",
       "    <tr style=\"text-align: right;\">\n",
       "      <th></th>\n",
       "      <th>diagnosis</th>\n",
       "      <th>concave points_mean</th>\n",
       "    </tr>\n",
       "  </thead>\n",
       "  <tbody>\n",
       "    <tr>\n",
       "      <th>0</th>\n",
       "      <td>M</td>\n",
       "      <td>0.14710</td>\n",
       "    </tr>\n",
       "    <tr>\n",
       "      <th>1</th>\n",
       "      <td>M</td>\n",
       "      <td>0.07017</td>\n",
       "    </tr>\n",
       "    <tr>\n",
       "      <th>2</th>\n",
       "      <td>M</td>\n",
       "      <td>0.12790</td>\n",
       "    </tr>\n",
       "    <tr>\n",
       "      <th>3</th>\n",
       "      <td>M</td>\n",
       "      <td>0.10520</td>\n",
       "    </tr>\n",
       "    <tr>\n",
       "      <th>4</th>\n",
       "      <td>M</td>\n",
       "      <td>0.10430</td>\n",
       "    </tr>\n",
       "    <tr>\n",
       "      <th>...</th>\n",
       "      <td>...</td>\n",
       "      <td>...</td>\n",
       "    </tr>\n",
       "    <tr>\n",
       "      <th>564</th>\n",
       "      <td>M</td>\n",
       "      <td>0.13890</td>\n",
       "    </tr>\n",
       "    <tr>\n",
       "      <th>565</th>\n",
       "      <td>M</td>\n",
       "      <td>0.09791</td>\n",
       "    </tr>\n",
       "    <tr>\n",
       "      <th>566</th>\n",
       "      <td>M</td>\n",
       "      <td>0.05302</td>\n",
       "    </tr>\n",
       "    <tr>\n",
       "      <th>567</th>\n",
       "      <td>M</td>\n",
       "      <td>0.15200</td>\n",
       "    </tr>\n",
       "    <tr>\n",
       "      <th>568</th>\n",
       "      <td>B</td>\n",
       "      <td>0.00000</td>\n",
       "    </tr>\n",
       "  </tbody>\n",
       "</table>\n",
       "<p>569 rows × 2 columns</p>\n",
       "</div>"
      ]
     },
     "execution_count": 137,
     "metadata": {},
     "output_type": "execute_result"
    }
   ],
   "execution_count": 137
  },
  {
   "metadata": {
    "ExecuteTime": {
     "end_time": "2025-05-27T12:15:00.903960Z",
     "start_time": "2025-05-27T12:15:00.813301Z"
    }
   },
   "cell_type": "code",
   "source": [
    "benign = df[df['diagnosis'] == 'B']['concave points_mean']\n",
    "malignant = df[df['diagnosis'] == 'M']['concave points_mean']\n",
    "\n",
    "plt.figure(figsize=(10, 6))\n",
    "\n",
    "counts_benign, bins = np.histogram(benign, bins=30)\n",
    "counts_malignant, _ = np.histogram(malignant, bins=bins)\n",
    "\n",
    "counts_benign_percent = counts_benign / counts_benign.sum() * 100\n",
    "counts_malignant_percent = counts_malignant / counts_malignant.sum() * 100\n",
    "\n",
    "bin_width = bins[1] - bins[0]\n",
    "\n",
    "plt.bar(bins[:-1], counts_benign_percent, width=bin_width, alpha=0.5, label='Benign')\n",
    "plt.bar(bins[:-1], counts_malignant_percent, width=bin_width, alpha=0.5, label='Malignant')\n",
    "\n",
    "plt.title('Distribution of Concave points mean by Diagnosis')\n",
    "plt.xlabel('Concave points mean')\n",
    "plt.ylabel('Percentage of people (%)')\n",
    "\n",
    "plt.legend()\n",
    "plt.show()"
   ],
   "id": "46d46750ebe80559",
   "outputs": [
    {
     "data": {
      "text/plain": [
       "<Figure size 1000x600 with 1 Axes>"
      ],
      "image/png": "[encoded data removed]"
     },
     "metadata": {},
     "output_type": "display_data"
    }
   ],
   "execution_count": 138
  },
  {
   "metadata": {},
   "cell_type": "markdown",
   "source": "### Symmetry mean",
   "id": "ec7dcab2724bef56"
  },
  {
   "metadata": {},
   "cell_type": "markdown",
   "source": "**Symmetry Mean** measures how symmetrical the shape of the cell nucleus is. Lower values indicate more regular, symmetric shapes; higher values suggest asymmetry, often linked to malignant tumors.\n",
   "id": "5e828bb622da829d"
  },
  {
   "metadata": {
    "ExecuteTime": {
     "end_time": "2025-05-27T12:15:00.921253Z",
     "start_time": "2025-05-27T12:15:00.916455Z"
    }
   },
   "cell_type": "code",
   "source": [
    "df = data[['diagnosis', 'symmetry_mean']]\n",
    "df"
   ],
   "id": "e03cef9729ddedab",
   "outputs": [
    {
     "data": {
      "text/plain": [
       "    diagnosis  symmetry_mean\n",
       "0           M         0.2419\n",
       "1           M         0.1812\n",
       "2           M         0.2069\n",
       "3           M         0.2597\n",
       "4           M         0.1809\n",
       "..        ...            ...\n",
       "564         M         0.1726\n",
       "565         M         0.1752\n",
       "566         M         0.1590\n",
       "567         M         0.2397\n",
       "568         B         0.1587\n",
       "\n",
       "[569 rows x 2 columns]"
      ],
      "text/html": [
       "<div>\n",
       "<style scoped>\n",
       "    .dataframe tbody tr th:only-of-type {\n",
       "        vertical-align: middle;\n",
       "    }\n",
       "\n",
       "    .dataframe tbody tr th {\n",
       "        vertical-align: top;\n",
       "    }\n",
       "\n",
       "    .dataframe thead th {\n",
       "        text-align: right;\n",
       "    }\n",
       "</style>\n",
       "<table border=\"1\" class=\"dataframe\">\n",
       "  <thead>\n",
       "    <tr style=\"text-align: right;\">\n",
       "      <th></th>\n",
       "      <th>diagnosis</th>\n",
       "      <th>symmetry_mean</th>\n",
       "    </tr>\n",
       "  </thead>\n",
       "  <tbody>\n",
       "    <tr>\n",
       "      <th>0</th>\n",
       "      <td>M</td>\n",
       "      <td>0.2419</td>\n",
       "    </tr>\n",
       "    <tr>\n",
       "      <th>1</th>\n",
       "      <td>M</td>\n",
       "      <td>0.1812</td>\n",
       "    </tr>\n",
       "    <tr>\n",
       "      <th>2</th>\n",
       "      <td>M</td>\n",
       "      <td>0.2069</td>\n",
       "    </tr>\n",
       "    <tr>\n",
       "      <th>3</th>\n",
       "      <td>M</td>\n",
       "      <td>0.2597</td>\n",
       "    </tr>\n",
       "    <tr>\n",
       "      <th>4</th>\n",
       "      <td>M</td>\n",
       "      <td>0.1809</td>\n",
       "    </tr>\n",
       "    <tr>\n",
       "      <th>...</th>\n",
       "      <td>...</td>\n",
       "      <td>...</td>\n",
       "    </tr>\n",
       "    <tr>\n",
       "      <th>564</th>\n",
       "      <td>M</td>\n",
       "      <td>0.1726</td>\n",
       "    </tr>\n",
       "    <tr>\n",
       "      <th>565</th>\n",
       "      <td>M</td>\n",
       "      <td>0.1752</td>\n",
       "    </tr>\n",
       "    <tr>\n",
       "      <th>566</th>\n",
       "      <td>M</td>\n",
       "      <td>0.1590</td>\n",
       "    </tr>\n",
       "    <tr>\n",
       "      <th>567</th>\n",
       "      <td>M</td>\n",
       "      <td>0.2397</td>\n",
       "    </tr>\n",
       "    <tr>\n",
       "      <th>568</th>\n",
       "      <td>B</td>\n",
       "      <td>0.1587</td>\n",
       "    </tr>\n",
       "  </tbody>\n",
       "</table>\n",
       "<p>569 rows × 2 columns</p>\n",
       "</div>"
      ]
     },
     "execution_count": 139,
     "metadata": {},
     "output_type": "execute_result"
    }
   ],
   "execution_count": 139
  },
  {
   "metadata": {
    "ExecuteTime": {
     "end_time": "2025-05-27T12:15:01.029338Z",
     "start_time": "2025-05-27T12:15:00.934409Z"
    }
   },
   "cell_type": "code",
   "source": [
    "benign = df[df['diagnosis'] == 'B']['symmetry_mean']\n",
    "malignant = df[df['diagnosis'] == 'M']['symmetry_mean']\n",
    "\n",
    "plt.figure(figsize=(10, 6))\n",
    "\n",
    "counts_benign, bins = np.histogram(benign, bins=30)\n",
    "counts_malignant, _ = np.histogram(malignant, bins=bins)\n",
    "\n",
    "counts_benign_percent = counts_benign / counts_benign.sum() * 100\n",
    "counts_malignant_percent = counts_malignant / counts_malignant.sum() * 100\n",
    "\n",
    "bin_width = bins[1] - bins[0]\n",
    "\n",
    "plt.bar(bins[:-1], counts_benign_percent, width=bin_width, alpha=0.5, label='Benign')\n",
    "plt.bar(bins[:-1], counts_malignant_percent, width=bin_width, alpha=0.5, label='Malignant')\n",
    "\n",
    "plt.title('Distribution of Symmetry mean by Diagnosis')\n",
    "plt.xlabel('Symmetry mean')\n",
    "plt.ylabel('Percentage of people (%)')\n",
    "\n",
    "plt.legend()\n",
    "plt.show()"
   ],
   "id": "c63f7de24fe584a5",
   "outputs": [
    {
     "data": {
      "text/plain": [
       "<Figure size 1000x600 with 1 Axes>"
      ],
      "image/png": "[encoded data removed]"
     },
     "metadata": {},
     "output_type": "display_data"
    }
   ],
   "execution_count": 140
  },
  {
   "metadata": {},
   "cell_type": "markdown",
   "source": "### Fractal dimension mean",
   "id": "ef180416793725c9"
  },
  {
   "metadata": {},
   "cell_type": "markdown",
   "source": "**Fractal Dimension Mean** quantifies the complexity of the cell nucleus boundary. Higher values indicate more intricate and irregular shapes, which are often associated with malignant tumors.\n",
   "id": "f383cc2624185b56"
  },
  {
   "metadata": {
    "ExecuteTime": {
     "end_time": "2025-05-27T12:15:01.034452Z",
     "start_time": "2025-05-27T12:15:01.030150Z"
    }
   },
   "cell_type": "code",
   "source": [
    "df = data[['diagnosis', 'fractal_dimension_mean']]\n",
    "df"
   ],
   "id": "39c147c579c259e4",
   "outputs": [
    {
     "data": {
      "text/plain": [
       "    diagnosis  fractal_dimension_mean\n",
       "0           M                 0.07871\n",
       "1           M                 0.05667\n",
       "2           M                 0.05999\n",
       "3           M                 0.09744\n",
       "4           M                 0.05883\n",
       "..        ...                     ...\n",
       "564         M                 0.05623\n",
       "565         M                 0.05533\n",
       "566         M                 0.05648\n",
       "567         M                 0.07016\n",
       "568         B                 0.05884\n",
       "\n",
       "[569 rows x 2 columns]"
      ],
      "text/html": [
       "<div>\n",
       "<style scoped>\n",
       "    .dataframe tbody tr th:only-of-type {\n",
       "        vertical-align: middle;\n",
       "    }\n",
       "\n",
       "    .dataframe tbody tr th {\n",
       "        vertical-align: top;\n",
       "    }\n",
       "\n",
       "    .dataframe thead th {\n",
       "        text-align: right;\n",
       "    }\n",
       "</style>\n",
       "<table border=\"1\" class=\"dataframe\">\n",
       "  <thead>\n",
       "    <tr style=\"text-align: right;\">\n",
       "      <th></th>\n",
       "      <th>diagnosis</th>\n",
       "      <th>fractal_dimension_mean</th>\n",
       "    </tr>\n",
       "  </thead>\n",
       "  <tbody>\n",
       "    <tr>\n",
       "      <th>0</th>\n",
       "      <td>M</td>\n",
       "      <td>0.07871</td>\n",
       "    </tr>\n",
       "    <tr>\n",
       "      <th>1</th>\n",
       "      <td>M</td>\n",
       "      <td>0.05667</td>\n",
       "    </tr>\n",
       "    <tr>\n",
       "      <th>2</th>\n",
       "      <td>M</td>\n",
       "      <td>0.05999</td>\n",
       "    </tr>\n",
       "    <tr>\n",
       "      <th>3</th>\n",
       "      <td>M</td>\n",
       "      <td>0.09744</td>\n",
       "    </tr>\n",
       "    <tr>\n",
       "      <th>4</th>\n",
       "      <td>M</td>\n",
       "      <td>0.05883</td>\n",
       "    </tr>\n",
       "    <tr>\n",
       "      <th>...</th>\n",
       "      <td>...</td>\n",
       "      <td>...</td>\n",
       "    </tr>\n",
       "    <tr>\n",
       "      <th>564</th>\n",
       "      <td>M</td>\n",
       "      <td>0.05623</td>\n",
       "    </tr>\n",
       "    <tr>\n",
       "      <th>565</th>\n",
       "      <td>M</td>\n",
       "      <td>0.05533</td>\n",
       "    </tr>\n",
       "    <tr>\n",
       "      <th>566</th>\n",
       "      <td>M</td>\n",
       "      <td>0.05648</td>\n",
       "    </tr>\n",
       "    <tr>\n",
       "      <th>567</th>\n",
       "      <td>M</td>\n",
       "      <td>0.07016</td>\n",
       "    </tr>\n",
       "    <tr>\n",
       "      <th>568</th>\n",
       "      <td>B</td>\n",
       "      <td>0.05884</td>\n",
       "    </tr>\n",
       "  </tbody>\n",
       "</table>\n",
       "<p>569 rows × 2 columns</p>\n",
       "</div>"
      ]
     },
     "execution_count": 141,
     "metadata": {},
     "output_type": "execute_result"
    }
   ],
   "execution_count": 141
  },
  {
   "metadata": {
    "ExecuteTime": {
     "end_time": "2025-05-27T12:15:01.136105Z",
     "start_time": "2025-05-27T12:15:01.043292Z"
    }
   },
   "cell_type": "code",
   "source": [
    "benign = df[df['diagnosis'] == 'B']['fractal_dimension_mean']\n",
    "malignant = df[df['diagnosis'] == 'M']['fractal_dimension_mean']\n",
    "\n",
    "plt.figure(figsize=(10, 6))\n",
    "\n",
    "counts_benign, bins = np.histogram(benign, bins=30)\n",
    "counts_malignant, _ = np.histogram(malignant, bins=bins)\n",
    "\n",
    "counts_benign_percent = counts_benign / counts_benign.sum() * 100\n",
    "counts_malignant_percent = counts_malignant / counts_malignant.sum() * 100\n",
    "\n",
    "bin_width = bins[1] - bins[0]\n",
    "\n",
    "plt.bar(bins[:-1], counts_benign_percent, width=bin_width, alpha=0.5, label='Benign')\n",
    "plt.bar(bins[:-1], counts_malignant_percent, width=bin_width, alpha=0.5, label='Malignant')\n",
    "\n",
    "plt.title('Distribution of Fractal dimension mean by Diagnosis')\n",
    "plt.xlabel('Fractal dimension mean')\n",
    "plt.ylabel('Percentage of people (%)')\n",
    "\n",
    "plt.legend()\n",
    "plt.show()"
   ],
   "id": "809ad39ff751ee8",
   "outputs": [
    {
     "data": {
      "text/plain": [
       "<Figure size 1000x600 with 1 Axes>"
      ],
      "image/png": "[encoded data removed]"
     },
     "metadata": {},
     "output_type": "display_data"
    }
   ],
   "execution_count": 142
  },
  {
   "metadata": {
    "ExecuteTime": {
     "end_time": "2025-05-27T12:15:01.138199Z",
     "start_time": "2025-05-27T12:15:01.136901Z"
    }
   },
   "cell_type": "code",
   "source": "",
   "id": "6402738736767854",
   "outputs": [],
   "execution_count": 142
  }
 ],
 "metadata": {
  "kernelspec": {
   "display_name": "Python 3",
   "language": "python",
   "name": "python3"
  },
  "language_info": {
   "codemirror_mode": {
    "name": "ipython",
    "version": 2
   },
   "file_extension": ".py",
   "mimetype": "text/x-python",
   "name": "python",
   "nbconvert_exporter": "python",
   "pygments_lexer": "ipython2",
   "version": "2.7.6"
  }
 },
 "nbformat": 4,
 "nbformat_minor": 5
}
